{
  "nbformat": 4,
  "nbformat_minor": 0,
  "metadata": {
    "colab": {
      "name": "Introducción a la graficación con Python.ipynb",
      "private_outputs": true,
      "provenance": [],
      "collapsed_sections": [],
      "authorship_tag": "ABX9TyNOt576LMvHg2PFrbx+joVC",
      "include_colab_link": true
    },
    "kernelspec": {
      "name": "python3",
      "display_name": "Python 3"
    },
    "language_info": {
      "name": "python"
    }
  },
  "cells": [
    {
      "cell_type": "markdown",
      "metadata": {
        "id": "view-in-github",
        "colab_type": "text"
      },
      "source": [
        "<a href=\"https://colab.research.google.com/github/ulises1229/2022-1-Comp-I/blob/main/code/Introducci%C3%B3n_a_la_graficaci%C3%B3n_con_Python.ipynb\" target=\"_parent\"><img src=\"https://colab.research.google.com/assets/colab-badge.svg\" alt=\"Open In Colab\"/></a>"
      ]
    },
    {
      "cell_type": "code",
      "execution_count": null,
      "metadata": {
        "id": "Y4_GvUoXYAJQ"
      },
      "outputs": [],
      "source": [
        ""
      ]
    },
    {
      "cell_type": "markdown",
      "source": [
        ""
      ],
      "metadata": {
        "id": "8jkZqJaQX1eu"
      }
    },
    {
      "cell_type": "markdown",
      "metadata": {
        "id": "h0FyY51mKvHR"
      },
      "source": [
        "##1. Gráficos de dispersión (Scatter)"
      ]
    },
    {
      "cell_type": "code",
      "source": [
        "import pandas as pd \n",
        "\n",
        "df = pd.read_csv(\"https://raw.githubusercontent.com/ulises1229/INTRO-PYTHON-ENESJ/master/data/salaries.csv\")\n",
        "df.head()"
      ],
      "metadata": {
        "id": "hRsQSPuQix63"
      },
      "execution_count": null,
      "outputs": []
    },
    {
      "cell_type": "code",
      "metadata": {
        "id": "Mg6DF7HC-NMx"
      },
      "source": [
        "# Importar librería Matplotlib\n",
        "import matplotlib.pyplot as plt\n",
        "\n",
        "# Almacenar variables x = años servicio y y = salario\n",
        "x = df.service\n",
        "y = df.salary\n",
        "\n",
        "# Generar diagrama de dispersión\n",
        "plt.scatter(x, y)\n",
        "\n",
        "# Títulos: gráfico y ejes \n",
        "plt.title(\"Gráfico de Dispersión Años de servicio vs Salario\")\n",
        "plt.xlabel('Años de servicio')\n",
        "plt.ylabel('Salario Anual')\n",
        "\n",
        "# Desplegar imagen en pantalla\n",
        "plt.show()"
      ],
      "execution_count": null,
      "outputs": []
    },
    {
      "cell_type": "markdown",
      "metadata": {
        "id": "pZtLeDVwZC2t"
      },
      "source": [
        "### Añadir Colores y modificar el tamaño del gráfico"
      ]
    },
    {
      "cell_type": "code",
      "metadata": {
        "id": "w7YDLdjiYKSs"
      },
      "source": [
        "#importar librería de numpy\n",
        "import numpy as np\n",
        "\n",
        "# Almacenar variables x = años servicio y y = salario\n",
        "x = df.service\n",
        "y = df.salary\n",
        "lab = ['Male', 'Female']\n",
        "\n",
        "# Arreglo de colores\n",
        "colores = np.arange(len(x))\n",
        "\n",
        "# Títulos: gráfico y ejes \n",
        "plt.title(\"Gráfico de Dispersión Años de servicio vs Salario\")\n",
        "plt.xlabel('Años de servicio')\n",
        "plt.ylabel('Salario Anual')\n",
        "\n",
        "# Agregar un scatter con colores y transparencia\n",
        "plt.scatter(x, y, c=colores, alpha = 0.5, s = (y*0.002))\n",
        "\n",
        "#plt.show()\n",
        "plt.savefig(\"dispersión.tiff\", dpi=600, quality = 95, bbox_inches='tight')"
      ],
      "execution_count": null,
      "outputs": []
    },
    {
      "cell_type": "markdown",
      "metadata": {
        "id": "-IozdV_DfSoT"
      },
      "source": [
        "### Agregar una leyenda a los datos"
      ]
    },
    {
      "cell_type": "code",
      "metadata": {
        "id": "AvCdA-lEfWMp"
      },
      "source": [
        "# Almacenar variables x = años servicio y y = salario\n",
        "x = df.service\n",
        "y = df.salary\n",
        "lab = ['Male', 'Female']\n",
        "\n",
        "# Arreglo de colores\n",
        "colores = np.arange(len(x))\n",
        "\n",
        "# Títulos: gráfico y ejes \n",
        "plt.title(\"Gráfico de Dispersión Años de servicio vs Salario\")\n",
        "plt.xlabel('Años de servicio')\n",
        "plt.ylabel('Salario Anual')\n",
        "\n",
        "# Agregar un scatter con colores, transparencia y leyenda\n",
        "plt.scatter(x, y, c=colores, alpha = 0.5, s = (y*0.002), label = \"datos\")\n",
        "plt.legend(loc='best')\n",
        "\n",
        "#plt.show()\n",
        "plt.savefig(\"dispersión.tiff\", dpi=300, quality = 95, bbox_inches='tight')"
      ],
      "execution_count": null,
      "outputs": []
    },
    {
      "cell_type": "markdown",
      "metadata": {
        "id": "7xqYYS_CihOi"
      },
      "source": [
        "### Exportando un gráfico"
      ]
    },
    {
      "cell_type": "code",
      "metadata": {
        "id": "p6ui5FvWX787"
      },
      "source": [
        "# guarda la imagen en un archivo\n",
        "plt.savefig(\"dispersión.tiff\", dpi=300, quality = 95, bbox_inches='tight')"
      ],
      "execution_count": null,
      "outputs": []
    },
    {
      "cell_type": "markdown",
      "metadata": {
        "id": "5QcndDlEiopV"
      },
      "source": [
        "### Ejercicio 1\n",
        "\n",
        "\n",
        "Emplear el dataframe **mpg.csv** Está en el repositorio de GitHub: https://raw.githubusercontent.com/ulises1229/INTRO-PYTHON-ENESJ/master/data/mpg.csv\n",
        "\n",
        "1. Se deberá generar un gráfico de dispersión del desplazamiento del motor vs rendimiento en autopista.\n",
        "\n",
        "2. Se deberá generar un segundo gráfico de desplazamiento del motor vs rendimiento en ciudad.\n",
        "\n",
        "3. Exportar un gráfico con una resolución de 300 dpi"
      ]
    },
    {
      "cell_type": "code",
      "metadata": {
        "id": "rWkuIcZ9isGT"
      },
      "source": [
        "# Import Pandas lib\n",
        "import pandas as pd\n",
        "import matplotlib.pyplot as plt\n",
        "\n",
        "dfMpg = pd.read_csv('https://raw.githubusercontent.com/ulises1229/INTRO-PYTHON-ENESJ/master/data/mpg.csv')\n",
        "dfMpg.head()\n",
        "\n",
        "\n"
      ],
      "execution_count": null,
      "outputs": []
    },
    {
      "cell_type": "markdown",
      "metadata": {
        "id": "KWiFNXOa0lVE"
      },
      "source": [
        "Ejercicio 1 - Parte 1"
      ]
    },
    {
      "cell_type": "code",
      "metadata": {
        "id": "XjD6fyu4zOJa"
      },
      "source": [
        "# Obtener dos columnas para graficar\n",
        "x = dfMpg.displ\n",
        "y = dfMpg.hwy\n",
        "\n",
        "plt.scatter(x,y, s = 10, alpha = 0.5, c = 'red')\n",
        "plt.title(\"Desplazamiento vs Rendimiento Autopista\")\n",
        "plt.xlabel(\"Desplazamiento (lts)\")\n",
        "plt.ylabel(\"Rendimiento autopista(mpg)\")\n",
        "\n",
        "# Guardar imagen con una resolución de 300 dpi\n",
        "plt.savefig(\"autopista.tiff\", dpi=300)\n",
        "\n"
      ],
      "execution_count": null,
      "outputs": []
    },
    {
      "cell_type": "markdown",
      "metadata": {
        "id": "_vGkqFzc0thE"
      },
      "source": [
        "Ejercicio 1 - Parte 2"
      ]
    },
    {
      "cell_type": "code",
      "metadata": {
        "id": "jscl6VSV0yqG"
      },
      "source": [
        "# Obtener dos columnas para graficar\n",
        "x = dfMpg.displ\n",
        "y = dfMpg.cty\n",
        "\n",
        "plt.scatter(x,y, s = 10, alpha = 0.5, c = 'red')\n",
        "plt.title(\"Desplazamiento vs Rendimiento Ciudad\")\n",
        "plt.xlabel(\"Desplazamiento (lts)\")\n",
        "plt.ylabel(\"Rendimiento ciudad(mpg)\")\n",
        "\n",
        "# Guardar imagen con una resolución de 300 dpi\n",
        "plt.savefig(\"ciudad.tiff\", dpi=300)"
      ],
      "execution_count": null,
      "outputs": []
    },
    {
      "cell_type": "markdown",
      "metadata": {
        "id": "kpvLvniAyCgd"
      },
      "source": [
        "### Ejercicio 2\n",
        "Emplear el dataframe **iris.csv** Está en el repositorio de GitHub:https://raw.githubusercontent.com/ulises1229/INTRO-PYTHON-ENESJ/master/data/iris.csv\n",
        "\n",
        "1. Se deberá generar un gráfico de dispersión de Longitud de pétalo vs Longitud de sepalo. Lo anterior se deberá hacer para cada especie, se deberá poner el nombre de la especie en una leyenda. "
      ]
    },
    {
      "cell_type": "code",
      "metadata": {
        "id": "kS5lHekryd7T"
      },
      "source": [
        "# Código aquí\n",
        "\n",
        "\n",
        "iris = pd.read_csv(\"https://raw.githubusercontent.com/ulises1229/INTRO-PYTHON-ENESJ/master/data/iris.csv\")\n",
        "iris.head()\n",
        "\n",
        "x = iris['Sepal.Length']\n",
        "y = iris['Petal.Length']\n",
        "\n",
        "\n",
        "plt.scatter(x,y)"
      ],
      "execution_count": null,
      "outputs": []
    },
    {
      "cell_type": "markdown",
      "metadata": {
        "id": "1_pDzah9lIE_"
      },
      "source": [
        "## 2. Gráficos de Línea# "
      ]
    },
    {
      "cell_type": "code",
      "metadata": {
        "id": "YEQ0KD1rlHjm"
      },
      "source": [
        "# Importar pandas y matplotlib\n",
        "import matplotlib.pyplot as plt\n",
        "import pandas as pd\n",
        "\n",
        "# Importar data frame de temperatura\n",
        "df_temp = pd.read_csv('https://raw.githubusercontent.com/ulises1229/INTRO-PYTHON-ENESJ/master/data/temp.csv', sep =',')\n",
        "\n",
        "df_temp\n",
        "\n"
      ],
      "execution_count": null,
      "outputs": []
    },
    {
      "cell_type": "code",
      "metadata": {
        "id": "2ZinlkNj6kvB"
      },
      "source": [
        "# Separa dos variables del dataframe\n",
        "año = df_temp.Year\n",
        "temp = df_temp.Mean\n",
        "\n",
        "# Generar el diagrama de línea\n",
        "plt.plot(año,temp)\n",
        "\n",
        "#Agregar un scatter\n",
        "plt.scatter(año, temp, s = 3, c = \"red\", alpha = 0.6)\n",
        "\n",
        "# Agregar títulos\n",
        "plt.title(\"Temperatura media de la tierra 1880 - 2016\")\n",
        "plt.xlabel('Año')\n",
        "plt.ylabel('Temperatura media ºC')\n",
        "\n",
        "#Guardar el el gráfico en un archivo\n",
        "plt.savefig(\"line_temp.tiff\", dpi=300, quality = 95, bbox_inches='tight')\n",
        "\n"
      ],
      "execution_count": null,
      "outputs": []
    },
    {
      "cell_type": "markdown",
      "metadata": {
        "id": "nYGbzUhqyxze"
      },
      "source": [
        "### Ejercicio 3\n",
        "Emplear el dataframe **co2.csv** Está en el repositorio de GitHub:https://raw.githubusercontent.com/ulises1229/INTRO-PYTHON-ENESJ/master/data/co2.csv\n",
        "1. Se deberá generar un gráfico de línea con fecha vs Interpolated.\n",
        "\n",
        "2. Se deberá generar un gráfico de línea con fecha vs Trend.\n",
        "\n",
        "3. Se deberá exportar el gráfico con una calidad de 300 dpi.\n"
      ]
    },
    {
      "cell_type": "code",
      "metadata": {
        "id": "Dr7OFQfOzKIl"
      },
      "source": [
        "# Código aquí\n",
        "co2 = pd.read_csv(\"https://raw.githubusercontent.com/ulises1229/INTRO-PYTHON-ENESJ/master/data/co2.csv\")\n",
        "co2.head()"
      ],
      "execution_count": null,
      "outputs": []
    },
    {
      "cell_type": "code",
      "metadata": {
        "id": "kV5uRdpb74BJ"
      },
      "source": [
        "# Primer parrte del ejercicio\n",
        "x = co2['Decimal Date']\n",
        "y = co2.Interpolated\n",
        "\n",
        "plt.plot(x , y)"
      ],
      "execution_count": null,
      "outputs": []
    },
    {
      "cell_type": "code",
      "metadata": {
        "id": "TD2uCTaL8dvI"
      },
      "source": [
        "# Segunda parte\n",
        "x = co2['Decimal Date']\n",
        "y = co2.Trend\n",
        "\n",
        "plt.plot(x,y)"
      ],
      "execution_count": null,
      "outputs": []
    }
  ]
}