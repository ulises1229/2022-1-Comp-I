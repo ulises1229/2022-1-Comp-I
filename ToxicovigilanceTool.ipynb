{
  "nbformat": 4,
  "nbformat_minor": 0,
  "metadata": {
    "colab": {
      "name": "ToxicovigilanceTool.ipynb",
      "private_outputs": true,
      "provenance": [],
      "collapsed_sections": [],
      "authorship_tag": "ABX9TyMlAl3Ri+Eqmhv/8R8gbLO7",
      "include_colab_link": true
    },
    "kernelspec": {
      "name": "python3",
      "display_name": "Python 3"
    },
    "language_info": {
      "name": "python"
    }
  },
  "cells": [
    {
      "cell_type": "markdown",
      "metadata": {
        "id": "view-in-github",
        "colab_type": "text"
      },
      "source": [
        "<a href=\"https://colab.research.google.com/github/ulises1229/2022-1-Comp-I/blob/main/ToxicovigilanceTool.ipynb\" target=\"_parent\"><img src=\"https://colab.research.google.com/assets/colab-badge.svg\" alt=\"Open In Colab\"/></a>"
      ]
    },
    {
      "cell_type": "markdown",
      "source": [
        "Toxicovigilance tool\n",
        "+ Author: Ulises Olivares\n",
        "+ Email: uolivares@unam.mx\n",
        "+ Dec 21, 2021"
      ],
      "metadata": {
        "id": "e_X9BWYCCqOz"
      }
    },
    {
      "cell_type": "markdown",
      "source": [
        "## 1. Import dataframe"
      ],
      "metadata": {
        "id": "7lGgJRBfCvI0"
      }
    },
    {
      "cell_type": "code",
      "source": [
        "# Import libraries\n",
        "import pandas as pd\n",
        "\n",
        "import numpy as np\n",
        "import tensorflow as tf\n",
        "from tensorflow import keras\n",
        "from tensorflow.keras import layers"
      ],
      "metadata": {
        "id": "MJ0J4B99Cuqn"
      },
      "execution_count": null,
      "outputs": []
    },
    {
      "cell_type": "markdown",
      "source": [
        "## 2. Import datasets"
      ],
      "metadata": {
        "id": "IUUdwo9NoQg3"
      }
    },
    {
      "cell_type": "code",
      "execution_count": null,
      "metadata": {
        "id": "rT7PmyG9Coyb"
      },
      "outputs": [],
      "source": [
        "prado = pd.read_csv(\"https://raw.githubusercontent.com/HpcDataLab/ToxicovigilanceTool/main/data/Daily_flight_activity_Prado.csv\")\n",
        "prado.head()"
      ]
    },
    {
      "cell_type": "code",
      "source": [
        "print(\"Unique bees: \", len(prado.ID.unique()))\n",
        "prado.groupby(by=[\"Treatment\"]).head()"
      ],
      "metadata": {
        "id": "ABQ7J-lRDy4U"
      },
      "execution_count": null,
      "outputs": []
    }
  ]
}